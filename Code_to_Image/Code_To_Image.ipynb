{
 "cells": [
  {
   "cell_type": "markdown",
   "id": "2660b959",
   "metadata": {},
   "source": [
    "# Code to Image Converter"
   ]
  },
  {
   "cell_type": "markdown",
   "id": "59e3ad8e",
   "metadata": {},
   "source": [
    "## Things to consider\n",
    "\n",
    "### 1:\n"
   ]
  }
 ],
 "metadata": {
  "kernelspec": {
   "display_name": "Python 3 (ipykernel)",
   "language": "python",
   "name": "python3"
  },
  "language_info": {
   "codemirror_mode": {
    "name": "ipython",
    "version": 3
   },
   "file_extension": ".py",
   "mimetype": "text/x-python",
   "name": "python",
   "nbconvert_exporter": "python",
   "pygments_lexer": "ipython3",
   "version": "3.11.4"
  }
 },
 "nbformat": 4,
 "nbformat_minor": 5
}
