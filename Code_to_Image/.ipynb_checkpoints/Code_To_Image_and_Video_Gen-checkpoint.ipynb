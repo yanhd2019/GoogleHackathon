{
 "cells": [
  {
   "cell_type": "markdown",
   "id": "2660b959",
   "metadata": {},
   "source": [
    "# Code to Image Converter"
   ]
  },
  {
   "cell_type": "markdown",
   "id": "cf00e6a8",
   "metadata": {},
   "source": [
    "The idea is to generate a temporary file that saves the code that's generating the image and add plt.savefig() function to it so it saves the image locally. One thing is that it has to have plt.show() removed to function since the .show() function releases the image from stack once excuted.\n",
    "\n",
    "***We do need to make sure that the code is generating figure using matplotlib*** "
   ]
  },
  {
   "cell_type": "code",
   "execution_count": 1,
   "id": "c92e845a",
   "metadata": {},
   "outputs": [],
   "source": [
    "import subprocess\n",
    "import os\n",
    "def code_to_figure(code, i):\n",
    "    tempfile = \"tempcode.py\"\n",
    "    \n",
    "    #check for the figures folder, create one if DNE\n",
    "    if not os.path.exists(\"figures\"):\n",
    "        os.makedirs(\"figures\")\n",
    "        \n",
    "    #check for matplotlib import in the code\n",
    "    if \"import matplotlib.pyplot as plt\" not in code:\n",
    "        code = \"import matplotlib.pyplot as plt\\n\" + code\n",
    "    \n",
    "    #remove .show to let .savefig function\n",
    "    code = code.replace(\"plt.show()\", \"\")\n",
    "    \n",
    "    #apply .savefig and add it to the tempfile\n",
    "    save_code = f\"\"\"\n",
    "plt.savefig('figures/figure{i+1}.jpg')\n",
    "\"\"\"\n",
    "    code += save_code\n",
    "    \n",
    "    #create the tempfile\n",
    "    with open(tempfile, 'w') as file:\n",
    "        file.write(code)\n",
    "    \n",
    "    #run the temp file\n",
    "    subprocess.run(['python', tempfile], check=True)\n",
    "    \n",
    "    #remove the temp file\n",
    "    os.remove(tempfile)\n",
    "    \n",
    "    return i + 1"
   ]
  },
  {
   "cell_type": "markdown",
   "id": "ca34ea00",
   "metadata": {},
   "source": [
    "Now we need a function to reset the figures for new prompt and outputs"
   ]
  },
  {
   "cell_type": "code",
   "execution_count": 2,
   "id": "bd4a0d9d",
   "metadata": {},
   "outputs": [],
   "source": [
    "import shutil\n",
    "def reset_figures():\n",
    "    figures_path = \"figures\"\n",
    "    if not os.path.exists(figures_path):\n",
    "        print(\"figures folder DNE\")\n",
    "        return 0\n",
    "    \n",
    "    #remove the folder(easiest way)\n",
    "    shutil.rmtree(figures_path)\n",
    "    \n",
    "    #remake the folder\n",
    "    os.makedirs(figures_path)\n",
    "    return 0"
   ]
  },
  {
   "cell_type": "code",
   "execution_count": 3,
   "id": "19478e00",
   "metadata": {},
   "outputs": [
    {
     "name": "stdout",
     "output_type": "stream",
     "text": [
      "figure 1 generated\n",
      "\n",
      "figure 2 generated\n",
      "\n"
     ]
    }
   ],
   "source": [
    "#test\n",
    "code_sample = \"\"\"\n",
    "import matplotlib.pyplot as plt\n",
    "\n",
    "# Create the supply curve\n",
    "x_supply = [10, 20, 30, 40, 50]\n",
    "y_supply = [5, 10, 15, 20, 25]\n",
    "\n",
    "# Create the demand curve\n",
    "x_demand = [10, 20, 30, 40, 50]\n",
    "y_demand = [25, 20, 15, 10, 5]\n",
    "\n",
    "# Plot the curves\n",
    "plt.plot(x_supply, y_supply, color='blue')\n",
    "plt.plot(x_demand, y_demand, color='red')\n",
    "\n",
    "# Label the axes\n",
    "plt.xlabel('Price')\n",
    "plt.ylabel('Quantity')\n",
    "\n",
    "# Show the plot\n",
    "plt.show()\n",
    "\"\"\"\n",
    "\n",
    "code_sample2 = \"\"\"\n",
    "import matplotlib.pyplot as plt\n",
    "\n",
    "# Define the demand function\n",
    "def demand(price):\n",
    "    return 100 - 2 * price\n",
    "\n",
    "# Create a list of prices\n",
    "prices = [10, 20, 30, 40, 50]\n",
    "\n",
    "# Calculate the quantity demanded at each price\n",
    "quantities = [demand(price) for price in prices]\n",
    "\n",
    "# Plot the demand curve\n",
    "plt.plot(prices, quantities)\n",
    "plt.xlabel('Price')\n",
    "plt.ylabel('Quantity Demanded')\n",
    "plt.title('Demand Curve')\n",
    "plt.show()\n",
    "\"\"\"\n",
    "prev_figures = 0\n",
    "prev_figures = code_to_figure(code_sample, prev_figures)\n",
    "print(f\"figure {prev_figures} generated\\n\")\n",
    "prev_figures = code_to_figure(code_sample2, prev_figures)\n",
    "print(f\"figure {prev_figures} generated\\n\")"
   ]
  },
  {
   "cell_type": "code",
   "execution_count": 4,
   "id": "c5e0cd24",
   "metadata": {},
   "outputs": [],
   "source": [
    "#prev_figures = reset_figures()"
   ]
  },
  {
   "cell_type": "code",
   "execution_count": null,
   "id": "36197262",
   "metadata": {},
   "outputs": [],
   "source": []
  },
  {
   "cell_type": "code",
   "execution_count": null,
   "id": "ac4a43f1",
   "metadata": {},
   "outputs": [],
   "source": []
  },
  {
   "cell_type": "code",
   "execution_count": null,
   "id": "a2436a8b",
   "metadata": {},
   "outputs": [],
   "source": []
  },
  {
   "cell_type": "markdown",
   "id": "445e4861",
   "metadata": {},
   "source": [
    "# Video Generation"
   ]
  },
  {
   "cell_type": "markdown",
   "id": "b48a52fc",
   "metadata": {},
   "source": [
    "This is an attempt to generate video from audios and images(figures)"
   ]
  },
  {
   "cell_type": "markdown",
   "id": "bcc5efb6",
   "metadata": {},
   "source": [
    "v1"
   ]
  },
  {
   "cell_type": "code",
   "execution_count": 12,
   "id": "eb5178db",
   "metadata": {},
   "outputs": [],
   "source": [
    "# import os\n",
    "# from moviepy.editor import ImageClip, AudioFileClip, concatenate_videoclips\n",
    "\n",
    "# def generate_video(k, result_folder=\"results\", audio_folder=\"audios\", figures_folder=\"figures\", fpss = 30):\n",
    "#     #create results folder if DNE\n",
    "#     if not os.path.exists(result_folder):\n",
    "#         os.makedirs(result_folder)\n",
    "\n",
    "#     #define valid audio and figure extensions\n",
    "#     valid_audio_exts = ('.mp3', '.wav', '.aac', '.m4a')\n",
    "#     valid_figure_exts = ('.jpeg','.jpg')\n",
    "\n",
    "#     #save all audios in a list, sorted by names\n",
    "#     audio_files = sorted([files for files in os.listdir(audio_folder) \n",
    "#                           if files.lower().startswith(\"response\") and files.lower().endswith(valid_audio_exts)])\n",
    "\n",
    "#     #save all figures in a list, sorted by names\n",
    "#     figure_files = sorted([files for files in os.listdir(figures_folder) \n",
    "#                            if files.lower().startswith(\"figure\") and files.lower().endswith(valid_figure_exts)])\n",
    "\n",
    "#     #create clips for each audio+image section\n",
    "#     clips = []\n",
    "#     for i, audio_file in enumerate(audio_files):\n",
    "#         audio = AudioFileClip(os.path.join(audio_folder, audio_file))\n",
    "# #         print(f\"audio {i}\")\n",
    "#         if i < len(figure_files):  # when we have a corresponding figure for the audio\n",
    "#             img_clip = ImageClip(os.path.join(figures_folder, figure_files[i]))\n",
    "#             clip = img_clip.set_duration(audio.duration).set_audio(audio)\n",
    "#             print(f\"Audio duration {audio.duration}\\n\")\n",
    "#             clips.append(clip)\n",
    "#         else:  # when there's one more audio than the figures\n",
    "# #             print(\"-1 \\n\")\n",
    "#             last_img = ImageClip(os.path.join(figures_folder, figure_files[-1]))\n",
    "#             clip = last_img.set_duration(audio.duration).set_audio(audio)\n",
    "#             clips.append(clip)\n",
    "    \n",
    "#     target_size = (1920, 1080)\n",
    "#     resized_clips = [clip.resize(newsize=target_size) for clip in clips]\n",
    "\n",
    "#     #concatenate the clips and write the video file\n",
    "#     final_video = concatenate_videoclips(resized_clips)\n",
    "    \n",
    "#     print(\"FPS Value:\", fpss)\n",
    "# #     final_video.write_videofile(os.path.join(result_folder, f\"result{k+1}.mp4\"), fps= fpss, \\\n",
    "# #                             codec=\"libx264\", audio_codec=\"aac\")\n",
    "#     final_video.write_videofile(f\"results/result{k+1}.mp4\")\n",
    "# #     final_video.write_videofile(os.path.join(result_folder, f\"result{k+1}.mp4\"), fps=fpss, codec='libx264')\n",
    "# #     final_video.write_videofile(os.path.join(result_folder, f\"result{k+1}.webm\"))\n",
    "    \n",
    "#     return k + 1"
   ]
  },
  {
   "cell_type": "markdown",
   "id": "8c0e4b58",
   "metadata": {},
   "source": [
    "v2"
   ]
  },
  {
   "cell_type": "code",
   "execution_count": 13,
   "id": "de260d60",
   "metadata": {},
   "outputs": [],
   "source": [
    "# import os\n",
    "# from moviepy.editor import ImageClip, AudioFileClip, concatenate_videoclips\n",
    "\n",
    "# def generate_video(k, result_folder=\"results\", audio_folder=\"audios\", figures_folder=\"figures\", fpss = 30):\n",
    "#     #create results folder if DNE\n",
    "#     if not os.path.exists(result_folder):\n",
    "#         os.makedirs(result_folder)\n",
    "\n",
    "#     #define valid audio and figure extensions\n",
    "#     valid_audio_exts = ('.mp3', '.wav', '.aac', '.m4a')\n",
    "#     valid_figure_exts = ('.jpeg','.jpg')\n",
    "\n",
    "#     #save all audios in a list, sorted by names\n",
    "#     audio_files = sorted([files for files in os.listdir(audio_folder) \n",
    "#                           if files.lower().startswith(\"response\") and files.lower().endswith(valid_audio_exts)])\n",
    "\n",
    "#     #save all figures in a list, sorted by names\n",
    "#     figure_files = sorted([files for files in os.listdir(figures_folder) \n",
    "#                            if files.lower().startswith(\"figure\") and files.lower().endswith(valid_figure_exts)])\n",
    "\n",
    "#     #create clips for each audio and image section\n",
    "#     video_clips = []\n",
    "#     audio_clips = []\n",
    "#     for i, audio_file in enumerate(audio_files):\n",
    "#         audio = AudioFileClip(os.path.join(audio_folder, audio_file))\n",
    "# #         print(f\"audio {i}\")\n",
    "#         if i < len(figure_files):  # when we have a corresponding figure for the audio\n",
    "#             img_clip = ImageClip(os.path.join(figures_folder, figure_files[i]))\n",
    "#             clip = img_clip.set_duration(audio.duration)\n",
    "#             print(f\"Audio duration {audio.duration}\\n\")\n",
    "#             video_clips.append(clip)\n",
    "#             audio_clips.append(audio)\n",
    "            \n",
    "#         else:  # when there's one more audio than the figures\n",
    "# #             print(\"-1 \\n\")\n",
    "#             last_img = ImageClip(os.path.join(figures_folder, figure_files[-1]))\n",
    "#             clip = last_img.set_duration(audio.duration)\n",
    "#             print(f\"Audio duration {audio.duration}\\n\")\n",
    "#             video_clips.append(clip)\n",
    "#             audio_clips.append(audio)\n",
    "    \n",
    "#     target_size = (1920, 1080)\n",
    "#     resized_clips = [clip.resize(newsize=target_size) for clip in video_clips]\n",
    "\n",
    "#     #concatenate the clips and write the video file\n",
    "#     final_video = concatenate_videoclips(resized_clips)\n",
    "    \n",
    "#     print(\"FPS Value:\", fpss)\n",
    "# #     final_video.write_videofile(os.path.join(result_folder, f\"result{k+1}.mp4\"), fps= fpss, \\\n",
    "# #                             codec=\"libx264\", audio_codec=\"aac\")\n",
    "#     final_video.write_videofile(f\"results/result{k+1}.mp4\")\n",
    "# #     final_video.write_videofile(os.path.join(result_folder, f\"result{k+1}.mp4\"), fps=fpss, codec='libx264')\n",
    "# #     final_video.write_videofile(os.path.join(result_folder, f\"result{k+1}.webm\"))\n",
    "    \n",
    "#     return k + 1"
   ]
  },
  {
   "cell_type": "code",
   "execution_count": 14,
   "id": "d336d153",
   "metadata": {},
   "outputs": [],
   "source": [
    "# # Test\n",
    "# prev_videos = 0\n",
    "# audio_folder = \"audios\"\n",
    "# figures_folder = \"figures\"\n",
    "# prev_videos = generate_video(prev_videos,result_folder=\"results\", audio_folder=audio_folder, figures_folder = figures_folder)\n",
    "# print(f\"video {prev_videos} generated\\n\")"
   ]
  },
  {
   "cell_type": "markdown",
   "id": "7d09caba",
   "metadata": {},
   "source": [
    "For some reason it keeps failing no matter the value I pass in for fps"
   ]
  },
  {
   "cell_type": "code",
   "execution_count": null,
   "id": "4427d404",
   "metadata": {},
   "outputs": [],
   "source": []
  },
  {
   "cell_type": "markdown",
   "id": "a62a4640",
   "metadata": {},
   "source": [
    "This is an alternative given by ChatGpt when my code does not write video properly, it saves an .avi file and it works just fine"
   ]
  },
  {
   "cell_type": "code",
   "execution_count": 8,
   "id": "1696dc4f",
   "metadata": {},
   "outputs": [],
   "source": [
    "import os\n",
    "import cv2\n",
    "from moviepy.editor import ImageClip, AudioFileClip, concatenate_audioclips\n",
    "import subprocess\n",
    "\n",
    "def generate_video(k, result_folder=\"results\", audio_folder=\"audios\", figures_folder=\"figures\", fps=30):\n",
    "    # Create results folder if it doesn't exist\n",
    "    if not os.path.exists(result_folder):\n",
    "        os.makedirs(result_folder)\n",
    "\n",
    "    # Define valid audio and figure extensions\n",
    "    valid_audio_exts = ('.mp3', '.wav', '.aac', '.m4a')\n",
    "    valid_figure_exts = ('.jpeg','.jpg')\n",
    "\n",
    "    # Get the sorted list of audio files\n",
    "    audio_files = sorted([files for files in os.listdir(audio_folder)\n",
    "                          if files.lower().startswith(\"response\") and files.lower().endswith(valid_audio_exts)])\n",
    "\n",
    "    # Get the sorted list of figure files\n",
    "    figure_files = sorted([files for files in os.listdir(figures_folder)\n",
    "                           if files.lower().startswith(\"figure\") and files.lower().endswith(valid_figure_exts)])\n",
    "\n",
    "    # Create clips for each audio and image pair\n",
    "    clips = []\n",
    "    for i, audio_file in enumerate(audio_files):\n",
    "        audio = AudioFileClip(os.path.join(audio_folder, audio_file))\n",
    "        if i < len(figure_files):  # If there's a corresponding image for the audio\n",
    "            img_clip = ImageClip(os.path.join(figures_folder, figure_files[i]))\n",
    "            clip = img_clip.set_duration(audio.duration).set_audio(audio)\n",
    "            clips.append(clip)\n",
    "        else:  # When there's one more audio than images\n",
    "            last_img = ImageClip(os.path.join(figures_folder, figure_files[-1]))\n",
    "            clip = last_img.set_duration(audio.duration).set_audio(audio)\n",
    "            clips.append(clip)\n",
    "\n",
    "    target_size = (1920, 1080)\n",
    "    resized_clips = [clip.resize(newsize=target_size) for clip in clips]\n",
    "\n",
    "    # Prepare for video writing using OpenCV\n",
    "    temp_video_avi = os.path.join(result_folder, f\"temp_result{k+1}.avi\")\n",
    "    fourcc = cv2.VideoWriter_fourcc(*'XVID')\n",
    "    out = cv2.VideoWriter(temp_video_avi, fourcc, fps, target_size)\n",
    "\n",
    "    # Extract audio tracks and combine them\n",
    "    audio_clips = [clip.audio for clip in resized_clips]\n",
    "    combined_audio = concatenate_audioclips(audio_clips)\n",
    "    audio_filename = os.path.join(result_folder, \"temp_audio.aac\")\n",
    "    combined_audio.write_audiofile(audio_filename, codec='aac')\n",
    "\n",
    "    # Write frames to OpenCV Video Writer\n",
    "    for clip in resized_clips:\n",
    "        for frame in clip.iter_frames(fps=fps, dtype=\"uint8\"):\n",
    "            out.write(frame)\n",
    "\n",
    "    out.release()\n",
    "\n",
    "    # Combine video-only AVI and audio track into final AVI\n",
    "    final_avi = os.path.join(result_folder, f\"result{k+1}.avi\")\n",
    "    cmd = [\n",
    "        'ffmpeg',\n",
    "        '-i', temp_video_avi,\n",
    "        '-i', audio_filename,\n",
    "        '-c:v', 'copy',\n",
    "        '-c:a', 'aac',\n",
    "        '-strict', 'experimental',\n",
    "        final_avi\n",
    "    ]\n",
    "    subprocess.call(cmd)\n",
    "\n",
    "    # Remove temporary files\n",
    "    os.remove(temp_video_avi)\n",
    "    os.remove(audio_filename)\n",
    "\n",
    "    return k + 1\n",
    "\n",
    "# You can call the function as before to test\n",
    "# Make sure you have ffmpeg installed on your machine.\n"
   ]
  },
  {
   "cell_type": "code",
   "execution_count": 9,
   "id": "1d895c05",
   "metadata": {},
   "outputs": [
    {
     "name": "stdout",
     "output_type": "stream",
     "text": [
      "MoviePy - Writing audio in results/temp_audio.aac\n"
     ]
    },
    {
     "name": "stderr",
     "output_type": "stream",
     "text": [
      "                                                                                \r"
     ]
    },
    {
     "name": "stdout",
     "output_type": "stream",
     "text": [
      "MoviePy - Done.\n"
     ]
    },
    {
     "name": "stderr",
     "output_type": "stream",
     "text": [
      "ffmpeg version 6.0 Copyright (c) 2000-2023 the FFmpeg developers\n",
      "  built with Apple clang version 14.0.3 (clang-1403.0.22.14.1)\n",
      "  configuration: --prefix=/opt/homebrew/Cellar/ffmpeg/6.0_1 --enable-shared --enable-pthreads --enable-version3 --cc=clang --host-cflags= --host-ldflags= --enable-ffplay --enable-gnutls --enable-gpl --enable-libaom --enable-libaribb24 --enable-libbluray --enable-libdav1d --enable-libjxl --enable-libmp3lame --enable-libopus --enable-librav1e --enable-librist --enable-librubberband --enable-libsnappy --enable-libsrt --enable-libsvtav1 --enable-libtesseract --enable-libtheora --enable-libvidstab --enable-libvmaf --enable-libvorbis --enable-libvpx --enable-libwebp --enable-libx264 --enable-libx265 --enable-libxml2 --enable-libxvid --enable-lzma --enable-libfontconfig --enable-libfreetype --enable-frei0r --enable-libass --enable-libopencore-amrnb --enable-libopencore-amrwb --enable-libopenjpeg --enable-libspeex --enable-libsoxr --enable-libzmq --enable-libzimg --disable-libjack --disable-indev=jack --enable-videotoolbox --enable-audiotoolbox --enable-neon\n",
      "  libavutil      58.  2.100 / 58.  2.100\n",
      "  libavcodec     60.  3.100 / 60.  3.100\n",
      "  libavformat    60.  3.100 / 60.  3.100\n",
      "  libavdevice    60.  1.100 / 60.  1.100\n",
      "  libavfilter     9.  3.100 /  9.  3.100\n",
      "  libswscale      7.  1.100 /  7.  1.100\n",
      "  libswresample   4. 10.100 /  4. 10.100\n",
      "  libpostproc    57.  1.100 / 57.  1.100\n",
      "Input #0, avi, from 'results/temp_result1.avi':\n",
      "  Metadata:\n",
      "    software        : Lavf59.27.100\n",
      "  Duration: 00:00:17.70, start: 0.000000, bitrate: 1769 kb/s\n",
      "  Stream #0:0: Video: mpeg4 (Simple Profile) (XVID / 0x44495658), yuv420p, 1920x1080 [SAR 1:1 DAR 16:9], 1762 kb/s, 30 fps, 30 tbr, 30 tbn\n",
      "[aac @ 0x125704280] Estimating duration from bitrate, this may be inaccurate\n",
      "Input #1, aac, from 'results/temp_audio.aac':\n",
      "  Duration: 00:00:17.71, bitrate: 129 kb/s\n",
      "  Stream #1:0: Audio: aac (LC), 44100 Hz, stereo, fltp, 129 kb/s\n",
      "Stream mapping:\n",
      "  Stream #0:0 -> #0:0 (copy)\n",
      "  Stream #1:0 -> #0:1 (aac (native) -> aac (native))\n",
      "Press [q] to stop, [?] for help\n",
      "Output #0, avi, to 'results/result1.avi':\n",
      "  Metadata:\n",
      "    software        : Lavf59.27.100\n",
      "    ISFT            : Lavf60.3.100\n",
      "  Stream #0:0: Video: mpeg4 (Simple Profile) (XVID / 0x44495658), yuv420p, 1920x1080 [SAR 1:1 DAR 16:9], q=2-31, 1762 kb/s, 30 fps, 30 tbr, 30 tbn\n",
      "  Stream #0:1: Audio: aac (LC) ([255][0][0][0] / 0x00FF), 44100 Hz, stereo, fltp, 128 kb/s\n",
      "    Metadata:\n",
      "      encoder         : Lavc60.3.100 aac\n",
      "frame=    0 fps=0.0 q=-1.0 size=       0kB time=-577014:32:22.77 bitrate=  -0.0kbits/s speed=N/A    \r"
     ]
    },
    {
     "name": "stdout",
     "output_type": "stream",
     "text": [
      "video 1 generated\n",
      "\n"
     ]
    },
    {
     "name": "stderr",
     "output_type": "stream",
     "text": [
      "frame=  531 fps=0.0 q=-1.0 Lsize=    4119kB time=00:00:17.67 bitrate=1909.4kbits/s speed=47.7x    \n",
      "video:3800kB audio:278kB subtitle:0kB other streams:0kB global headers:0kB muxing overhead: 0.996946%\n",
      "[aac @ 0x125706c00] Qavg: 8970.242\n"
     ]
    }
   ],
   "source": [
    "# Test\n",
    "prev_videos = 0\n",
    "audio_folder = \"audios\"\n",
    "figures_folder = \"figures\"\n",
    "prev_videos = generate_video(prev_videos,result_folder=\"results\", audio_folder=audio_folder, figures_folder = figures_folder)\n",
    "print(f\"video {prev_videos} generated\\n\")"
   ]
  },
  {
   "cell_type": "markdown",
   "id": "6fd43a94",
   "metadata": {},
   "source": [
    "In .mp4 format:"
   ]
  },
  {
   "cell_type": "code",
   "execution_count": 10,
   "id": "91f2b3c1",
   "metadata": {},
   "outputs": [],
   "source": [
    "import os\n",
    "import cv2\n",
    "from moviepy.editor import ImageClip, AudioFileClip, concatenate_audioclips\n",
    "import subprocess\n",
    "\n",
    "def generate_video(k, result_folder=\"results\", audio_folder=\"audios\", figures_folder=\"figures\", fps=30):\n",
    "    # Create results folder if it doesn't exist\n",
    "    if not os.path.exists(result_folder):\n",
    "        os.makedirs(result_folder)\n",
    "\n",
    "    # Define valid audio and figure extensions\n",
    "    valid_audio_exts = ('.mp3', '.wav', '.aac', '.m4a')\n",
    "    valid_figure_exts = ('.jpeg','.jpg')\n",
    "\n",
    "    # Get the sorted list of audio files\n",
    "    audio_files = sorted([files for files in os.listdir(audio_folder)\n",
    "                          if files.lower().startswith(\"response\") and files.lower().endswith(valid_audio_exts)])\n",
    "\n",
    "    # Get the sorted list of figure files\n",
    "    figure_files = sorted([files for files in os.listdir(figures_folder)\n",
    "                           if files.lower().startswith(\"figure\") and files.lower().endswith(valid_figure_exts)])\n",
    "\n",
    "    # Create clips for each audio and image pair\n",
    "    clips = []\n",
    "    for i, audio_file in enumerate(audio_files):\n",
    "        audio = AudioFileClip(os.path.join(audio_folder, audio_file))\n",
    "        if i < len(figure_files):  # If there's a corresponding image for the audio\n",
    "            img_clip = ImageClip(os.path.join(figures_folder, figure_files[i]))\n",
    "            clip = img_clip.set_duration(audio.duration).set_audio(audio)\n",
    "            clips.append(clip)\n",
    "        else:  # When there's one more audio than images\n",
    "            last_img = ImageClip(os.path.join(figures_folder, figure_files[-1]))\n",
    "            clip = last_img.set_duration(audio.duration).set_audio(audio)\n",
    "            clips.append(clip)\n",
    "\n",
    "    target_size = (1920, 1080)\n",
    "    resized_clips = [clip.resize(newsize=target_size) for clip in clips]\n",
    "    # Prepare for video writing using OpenCV\n",
    "    temp_video_avi = os.path.join(result_folder, f\"temp_result{k+1}.avi\")\n",
    "    fourcc = cv2.VideoWriter_fourcc(*'XVID')\n",
    "    out = cv2.VideoWriter(temp_video_avi, fourcc, fps, target_size)\n",
    "\n",
    "    # Extract audio tracks and combine them\n",
    "    audio_clips = [clip.audio for clip in resized_clips]\n",
    "    combined_audio = concatenate_audioclips(audio_clips)\n",
    "    audio_filename = os.path.join(result_folder, \"temp_audio.aac\")\n",
    "    combined_audio.write_audiofile(audio_filename, codec='aac')\n",
    "\n",
    "    # Write frames to OpenCV Video Writer\n",
    "    for clip in resized_clips:\n",
    "        for frame in clip.iter_frames(fps=fps, dtype=\"uint8\"):\n",
    "            out.write(frame)\n",
    "\n",
    "    out.release()\n",
    "\n",
    "    # Combine video-only AVI and audio track into final MP4\n",
    "    final_mp4 = os.path.join(result_folder, f\"result{k+1}.mp4\")\n",
    "    cmd = [\n",
    "        'ffmpeg',\n",
    "        '-i', temp_video_avi,\n",
    "        '-i', audio_filename,\n",
    "        '-c:v', 'libx264',\n",
    "        '-c:a', 'aac',\n",
    "        '-strict', 'experimental',\n",
    "        '-preset', 'fast',\n",
    "        '-b:v', '5000k',\n",
    "        final_mp4\n",
    "    ]\n",
    "    subprocess.call(cmd)\n",
    "\n",
    "    # Remove temporary files\n",
    "    os.remove(temp_video_avi)\n",
    "    os.remove(audio_filename)\n",
    "\n",
    "    return k + 1"
   ]
  },
  {
   "cell_type": "code",
   "execution_count": 11,
   "id": "d95cd4a1",
   "metadata": {},
   "outputs": [
    {
     "name": "stdout",
     "output_type": "stream",
     "text": [
      "MoviePy - Writing audio in results/temp_audio.aac\n"
     ]
    },
    {
     "name": "stderr",
     "output_type": "stream",
     "text": [
      "                                                                                \r"
     ]
    },
    {
     "name": "stdout",
     "output_type": "stream",
     "text": [
      "MoviePy - Done.\n"
     ]
    },
    {
     "name": "stderr",
     "output_type": "stream",
     "text": [
      "ffmpeg version 6.0 Copyright (c) 2000-2023 the FFmpeg developers\n",
      "  built with Apple clang version 14.0.3 (clang-1403.0.22.14.1)\n",
      "  configuration: --prefix=/opt/homebrew/Cellar/ffmpeg/6.0_1 --enable-shared --enable-pthreads --enable-version3 --cc=clang --host-cflags= --host-ldflags= --enable-ffplay --enable-gnutls --enable-gpl --enable-libaom --enable-libaribb24 --enable-libbluray --enable-libdav1d --enable-libjxl --enable-libmp3lame --enable-libopus --enable-librav1e --enable-librist --enable-librubberband --enable-libsnappy --enable-libsrt --enable-libsvtav1 --enable-libtesseract --enable-libtheora --enable-libvidstab --enable-libvmaf --enable-libvorbis --enable-libvpx --enable-libwebp --enable-libx264 --enable-libx265 --enable-libxml2 --enable-libxvid --enable-lzma --enable-libfontconfig --enable-libfreetype --enable-frei0r --enable-libass --enable-libopencore-amrnb --enable-libopencore-amrwb --enable-libopenjpeg --enable-libspeex --enable-libsoxr --enable-libzmq --enable-libzimg --disable-libjack --disable-indev=jack --enable-videotoolbox --enable-audiotoolbox --enable-neon\n",
      "  libavutil      58.  2.100 / 58.  2.100\n",
      "  libavcodec     60.  3.100 / 60.  3.100\n",
      "  libavformat    60.  3.100 / 60.  3.100\n",
      "  libavdevice    60.  1.100 / 60.  1.100\n",
      "  libavfilter     9.  3.100 /  9.  3.100\n",
      "  libswscale      7.  1.100 /  7.  1.100\n",
      "  libswresample   4. 10.100 /  4. 10.100\n",
      "  libpostproc    57.  1.100 / 57.  1.100\n",
      "Input #0, avi, from 'results/temp_result1.avi':\n",
      "  Metadata:\n",
      "    software        : Lavf59.27.100\n",
      "  Duration: 00:00:17.70, start: 0.000000, bitrate: 1769 kb/s\n",
      "  Stream #0:0: Video: mpeg4 (Simple Profile) (XVID / 0x44495658), yuv420p, 1920x1080 [SAR 1:1 DAR 16:9], 1762 kb/s, 30 fps, 30 tbr, 30 tbn\n",
      "[aac @ 0x152e05f40] Estimating duration from bitrate, this may be inaccurate\n",
      "Input #1, aac, from 'results/temp_audio.aac':\n",
      "  Duration: 00:00:17.71, bitrate: 129 kb/s\n",
      "  Stream #1:0: Audio: aac (LC), 44100 Hz, stereo, fltp, 129 kb/s\n",
      "Stream mapping:\n",
      "  Stream #0:0 -> #0:0 (mpeg4 (native) -> h264 (libx264))\n",
      "  Stream #1:0 -> #0:1 (aac (native) -> aac (native))\n",
      "Press [q] to stop, [?] for help\n",
      "[libx264 @ 0x152e07e20] using SAR=1/1\n",
      "[libx264 @ 0x152e07e20] using cpu capabilities: ARMv8 NEON\n",
      "[libx264 @ 0x152e07e20] profile High, level 4.0, 4:2:0, 8-bit\n",
      "[libx264 @ 0x152e07e20] 264 - core 164 r3108 31e19f9 - H.264/MPEG-4 AVC codec - Copyleft 2003-2023 - http://www.videolan.org/x264.html - options: cabac=1 ref=2 deblock=1:0:0 analyse=0x3:0x113 me=hex subme=6 psy=1 psy_rd=1.00:0.00 mixed_ref=1 me_range=16 chroma_me=1 trellis=1 8x8dct=1 cqm=0 deadzone=21,11 fast_pskip=1 chroma_qp_offset=-2 threads=12 lookahead_threads=2 sliced_threads=0 nr=0 decimate=1 interlaced=0 bluray_compat=0 constrained_intra=0 bframes=3 b_pyramid=2 b_adapt=1 b_bias=0 direct=1 weightb=1 open_gop=0 weightp=1 keyint=250 keyint_min=25 scenecut=40 intra_refresh=0 rc_lookahead=30 rc=abr mbtree=1 bitrate=5000 ratetol=1.0 qcomp=0.60 qpmin=0 qpmax=69 qpstep=4 ip_ratio=1.40 aq=1:1.00\n",
      "Output #0, mp4, to 'results/result1.mp4':\n",
      "  Metadata:\n",
      "    software        : Lavf59.27.100\n",
      "    encoder         : Lavf60.3.100\n",
      "  Stream #0:0: Video: h264 (avc1 / 0x31637661), yuv420p(progressive), 1920x1080 [SAR 1:1 DAR 16:9], q=2-31, 5000 kb/s, 30 fps, 15360 tbn\n",
      "    Metadata:\n",
      "      encoder         : Lavc60.3.100 libx264\n",
      "    Side data:\n",
      "      cpb: bitrate max/min/avg: 0/0/5000000 buffer size: 0 vbv_delay: N/A\n",
      "  Stream #0:1: Audio: aac (LC) (mp4a / 0x6134706D), 44100 Hz, stereo, fltp, 128 kb/s\n",
      "    Metadata:\n",
      "      encoder         : Lavc60.3.100 aac\n",
      "frame=  353 fps=234 q=0.0 size=     768kB time=00:00:13.23 bitrate= 475.4kbits/s speed=8.76x       \r"
     ]
    },
    {
     "name": "stdout",
     "output_type": "stream",
     "text": [
      "video 1 generated\n",
      "\n"
     ]
    },
    {
     "name": "stderr",
     "output_type": "stream",
     "text": [
      "frame=  531 fps=250 q=-1.0 Lsize=    1108kB time=00:00:17.67 bitrate= 513.5kbits/s speed=8.31x    \n",
      "video:809kB audio:278kB subtitle:0kB other streams:0kB global headers:0kB muxing overhead: 1.852635%\n",
      "[libx264 @ 0x152e07e20] frame I:3     Avg QP: 3.35  size: 91935\n",
      "[libx264 @ 0x152e07e20] frame P:134   Avg QP: 0.71  size:  3117\n",
      "[libx264 @ 0x152e07e20] frame B:394   Avg QP: 0.72  size:   342\n",
      "[libx264 @ 0x152e07e20] consecutive B-frames:  0.9%  0.4%  0.0% 98.7%\n",
      "[libx264 @ 0x152e07e20] mb I  I16..4: 81.5% 13.8%  4.6%\n",
      "[libx264 @ 0x152e07e20] mb P  I16..4:  0.1%  0.1%  0.0%  P16..4:  1.1%  0.1%  0.1%  0.0%  0.0%    skip:98.4%\n",
      "[libx264 @ 0x152e07e20] mb B  I16..4:  0.0%  0.0%  0.0%  B16..8:  0.3%  0.0%  0.0%  direct: 0.0%  skip:99.6%  L0:53.2% L1:46.6% BI: 0.2%\n",
      "[libx264 @ 0x152e07e20] final ratefactor: -16.10\n",
      "[libx264 @ 0x152e07e20] 8x8 transform intra:15.3% inter:45.2%\n",
      "[libx264 @ 0x152e07e20] coded y,uvDC,uvAC intra: 10.8% 9.5% 7.6% inter: 0.2% 0.2% 0.2%\n",
      "[libx264 @ 0x152e07e20] i16 v,h,dc,p: 90%  7%  2%  0%\n",
      "[libx264 @ 0x152e07e20] i8 v,h,dc,ddl,ddr,vr,hd,vl,hu: 31% 15% 41%  2%  1%  1%  4%  1%  5%\n",
      "[libx264 @ 0x152e07e20] i4 v,h,dc,ddl,ddr,vr,hd,vl,hu: 20% 28% 13%  4%  5%  3% 17%  3%  7%\n",
      "[libx264 @ 0x152e07e20] i8c dc,h,v,p: 92%  4%  3%  0%\n",
      "[libx264 @ 0x152e07e20] Weighted P-Frames: Y:0.0% UV:0.0%\n",
      "[libx264 @ 0x152e07e20] ref P L0: 86.4% 13.6%\n",
      "[libx264 @ 0x152e07e20] ref B L0: 95.3%  4.7%\n",
      "[libx264 @ 0x152e07e20] ref B L1: 97.2%  2.8%\n",
      "[libx264 @ 0x152e07e20] kb/s:374.25\n",
      "[aac @ 0x152e08f60] Qavg: 8970.242\n"
     ]
    }
   ],
   "source": [
    "# Test\n",
    "prev_videos = 0\n",
    "audio_folder = \"audios\"\n",
    "figures_folder = \"figures\"\n",
    "prev_videos = generate_video(prev_videos,result_folder=\"results\", audio_folder=audio_folder, figures_folder = figures_folder)\n",
    "print(f\"video {prev_videos} generated\\n\")"
   ]
  },
  {
   "cell_type": "code",
   "execution_count": null,
   "id": "8a65ae7f",
   "metadata": {},
   "outputs": [],
   "source": []
  }
 ],
 "metadata": {
  "kernelspec": {
   "display_name": "Python 3 (ipykernel)",
   "language": "python",
   "name": "python3"
  },
  "language_info": {
   "codemirror_mode": {
    "name": "ipython",
    "version": 3
   },
   "file_extension": ".py",
   "mimetype": "text/x-python",
   "name": "python",
   "nbconvert_exporter": "python",
   "pygments_lexer": "ipython3",
   "version": "3.11.4"
  }
 },
 "nbformat": 4,
 "nbformat_minor": 5
}
